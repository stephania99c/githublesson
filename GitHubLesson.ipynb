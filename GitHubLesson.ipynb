{
 "cells": [
  {
   "cell_type": "markdown",
   "id": "b5650618-5720-4d39-b0fc-fa4dc33686ed",
   "metadata": {},
   "source": [
    "# **GitHub Lesson**"
   ]
  },
  {
   "cell_type": "code",
   "execution_count": 7,
   "id": "097da1bc-a112-481d-990a-c3210a169bf9",
   "metadata": {},
   "outputs": [],
   "source": [
    "#Definir un programa que me permita adjuntar un archivo de forma dinámica y a través de un menú \n",
    "#poder ordenar columnas dado un parametro"
   ]
  },
  {
   "cell_type": "code",
   "execution_count": 5,
   "id": "d5e78a5b-1018-4294-abf2-d406574b2568",
   "metadata": {},
   "outputs": [
    {
     "name": "stdin",
     "output_type": "stream",
     "text": [
      "Ingresa la ruta del archivo que vas a explorar C:\\Users\\steph\\GitLesson\n",
      "Ingresa la extensión del archivo C:\\Users\\steph\\GitLesson\\Data\n",
      "Ingresa el nombre del archivo customers_info.csv\n"
     ]
    },
    {
     "name": "stdout",
     "output_type": "stream",
     "text": [
      "Error: El archivo 'C:\\Users\\steph\\GitLesson\\customers_info.csv.C:\\Users\\steph\\GitLesson\\Data' no existe.\n"
     ]
    },
    {
     "ename": "AttributeError",
     "evalue": "'NoneType' object has no attribute 'head'",
     "output_type": "error",
     "traceback": [
      "\u001b[1;31m---------------------------------------------------------------------------\u001b[0m",
      "\u001b[1;31mAttributeError\u001b[0m                            Traceback (most recent call last)",
      "Cell \u001b[1;32mIn[5], line 70\u001b[0m\n\u001b[0;32m     67\u001b[0m     \u001b[38;5;28mprint\u001b[39m(\u001b[38;5;124m\"\u001b[39m\u001b[38;5;124mVOY A FILTRAR ALGUNA COLUMNA\u001b[39m\u001b[38;5;124m\"\u001b[39m)\n\u001b[0;32m     69\u001b[0m df \u001b[38;5;241m=\u001b[39m readFile()\n\u001b[1;32m---> 70\u001b[0m showMenu(df)\n",
      "Cell \u001b[1;32mIn[5], line 28\u001b[0m, in \u001b[0;36mshowMenu\u001b[1;34m(df)\u001b[0m\n\u001b[0;32m     26\u001b[0m os\u001b[38;5;241m.\u001b[39msystem(\u001b[38;5;124m'\u001b[39m\u001b[38;5;124mcls\u001b[39m\u001b[38;5;124m'\u001b[39m)\n\u001b[0;32m     27\u001b[0m option \u001b[38;5;241m=\u001b[39m \u001b[38;5;124m'\u001b[39m\u001b[38;5;124m0\u001b[39m\u001b[38;5;124m'\u001b[39m\n\u001b[1;32m---> 28\u001b[0m \u001b[38;5;28mprint\u001b[39m(\u001b[38;5;124mf\u001b[39m\u001b[38;5;124m\"\u001b[39m\u001b[38;5;124m           ****VISTA PREVIA DEL ARCHIVO CARGADO****:\u001b[39m\u001b[38;5;130;01m\\n\u001b[39;00m\u001b[38;5;132;01m{\u001b[39;00mdf\u001b[38;5;241m.\u001b[39mhead()\u001b[38;5;132;01m}\u001b[39;00m\u001b[38;5;124m\"\u001b[39m)\n\u001b[0;32m     29\u001b[0m \u001b[38;5;28;01mwhile\u001b[39;00m option \u001b[38;5;241m!=\u001b[39m \u001b[38;5;124m'\u001b[39m\u001b[38;5;124m4\u001b[39m\u001b[38;5;124m'\u001b[39m:\n\u001b[0;32m     30\u001b[0m     \u001b[38;5;28mprint\u001b[39m(\u001b[38;5;124m\"\u001b[39m\u001b[38;5;124m¿Que se desea hacer con los datos proporcionados?\u001b[39m\u001b[38;5;124m\"\u001b[39m)\n",
      "\u001b[1;31mAttributeError\u001b[0m: 'NoneType' object has no attribute 'head'"
     ]
    }
   ],
   "source": [
    "import pandas as pd\n",
    "import os\n",
    "\n",
    "def readFile():\n",
    "    try:\n",
    "        file_path = input('Ingresa la ruta del archivo que vas a explorar')\n",
    "        file_extension = input('Ingresa la extensión del archivo')\n",
    "        file_name = input('Ingresa el nombre del archivo')\n",
    "        file_path = rf\"{file_path}\"\n",
    "        full_path = f\"{file_path}\\\\{file_name}.{file_extension}\"\n",
    "        \n",
    "        if not os.path.exists(full_path):\n",
    "            print(f\"Error: El archivo '{full_path}' no existe.\")\n",
    "            return\n",
    "\n",
    "        if(file_extension == 'csv'):\n",
    "            df = pd.read_csv(full_path)\n",
    "        elif(file_extension == 'xlsx'):\n",
    "            df = pd.read_excel(full_path)\n",
    "            \n",
    "        return df\n",
    "    except Exception as e:\n",
    "        print(f\"Hubo un error al intentar cargar el archivo: {e}\")\n",
    "\n",
    "def showMenu(df):\n",
    "        os.system('cls')\n",
    "        option = '0'\n",
    "        print(f\"           ****VISTA PREVIA DEL ARCHIVO CARGADO****:\\n{df.head()}\")\n",
    "        while option != '4':\n",
    "            print(\"¿Que se desea hacer con los datos proporcionados?\")\n",
    "            print(\"(1) Ordenar Tabla por Columna\")\n",
    "            print(\"(2) Ordenar y Agrupar Columna\")\n",
    "            print(\"(3) Filtrar Columna\")\n",
    "            print(\"(4) Salir\")\n",
    "            option = input('Ingrese una opción del menú: ')\n",
    "            if(option == '1'):\n",
    "                orderTableByColumn(df)\n",
    "            if(option == '2'):\n",
    "                orderAndGroupColumn(df)\n",
    "            if(option == '3'):\n",
    "                filterColumn(df)\n",
    "            if(option == '4'):\n",
    "                print(\"Hasta pronto!\")\n",
    "                return\n",
    "            if(option != '1' and option!='2' and option!='3' and option!=4):\n",
    "                os.system('cls')\n",
    "                print(\"La opción ingresada no corresponde a ninguna del menú\")\n",
    "\n",
    "def orderTableByColumn(df):\n",
    "    headers_list = df.columns.tolist()\n",
    "    print(\"ESTAS SON LAS COLUMNAS DISPONIBLES: \" , headers_list)\n",
    "    column_to_order = (input('Ingrese el nombre de la columna que deseas filtrar: ')).lower()\n",
    "    order_type = input('Ingrese el tipo de orden (ASC) O (DESC): ')\n",
    "    if(order_type.upper() != 'ASC' and order_type.upper()!= 'DESC'):\n",
    "        print(\"El tipo de orden ingresado no existe\")\n",
    "    else:\n",
    "        if(order_type.upper()=='ASC'):\n",
    "            table_sorted = df.sort_values(column_to_order, ascending=True)\n",
    "        elif(order_type.upper()=='DESC'):\n",
    "            table_sorted = df.sort_values(column_to_order, ascending=False)\n",
    "        print(table_sorted)\n",
    "\n",
    "def orderAndGroupColumn():\n",
    "    print(\"VOY A ORDERNAR Y AGRUPAR UNA COLUMNA\")\n",
    "    \n",
    "def filterColumn(df):\n",
    "    print(\"VOY A FILTRAR ALGUNA COLUMNA\")\n",
    "\n",
    "df = readFile()\n",
    "showMenu(df)\n"
   ]
  },
  {
   "cell_type": "code",
   "execution_count": null,
   "id": "d00e8f31-d8a3-4aa9-9776-25b3d77af365",
   "metadata": {},
   "outputs": [],
   "source": []
  }
 ],
 "metadata": {
  "kernelspec": {
   "display_name": "Python 3 (ipykernel)",
   "language": "python",
   "name": "python3"
  },
  "language_info": {
   "codemirror_mode": {
    "name": "ipython",
    "version": 3
   },
   "file_extension": ".py",
   "mimetype": "text/x-python",
   "name": "python",
   "nbconvert_exporter": "python",
   "pygments_lexer": "ipython3",
   "version": "3.12.7"
  }
 },
 "nbformat": 4,
 "nbformat_minor": 5
}
